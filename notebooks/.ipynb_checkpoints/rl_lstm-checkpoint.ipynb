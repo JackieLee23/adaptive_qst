{
 "cells": [
  {
   "cell_type": "code",
   "execution_count": 2,
   "id": "6f1214c8",
   "metadata": {},
   "outputs": [
    {
     "name": "stdout",
     "output_type": "stream",
     "text": [
      "The autoreload extension is already loaded. To reload it, use:\n",
      "  %reload_ext autoreload\n"
     ]
    }
   ],
   "source": [
    "%load_ext autoreload\n",
    "%autoreload 2\n",
    "\n",
    "import numpy as np\n",
    "import gymnasium as gym\n",
    "import os\n",
    "import qiskit\n",
    "from gymnasium import spaces\n",
    "from stable_baselines3 import PPO, A2C, DQN, TD3, SAC\n",
    "from stable_baselines3.common.env_util import DummyVecEnv\n",
    "from stable_baselines3.common.monitor import Monitor\n",
    "from stable_baselines3.common.env_checker import check_env\n",
    "from stable_baselines3.common.callbacks import EvalCallback\n",
    "from stable_baselines3.common.vec_env import VecNormalize\n",
    "\n",
    "from qiskit.quantum_info import random_density_matrix, random_statevector, DensityMatrix\n",
    "from adaptive_qst.plotting import PlotOneQubit\n",
    "from adaptive_qst.max_info import Posterior, HiddenState\n",
    "#from adaptive_qst.rl_qst import AQSTEnv\n",
    "import matplotlib.pyplot as plt\n",
    "from numpy import pi\n",
    "from qiskit.quantum_info import state_fidelity\n",
    "\n",
    "from numpy import sqrt\n",
    "from numpy.linalg import cholesky\n",
    "\n",
    "from sb3_contrib import RecurrentPPO"
   ]
  },
  {
   "cell_type": "code",
   "execution_count": 13,
   "id": "6f6fe0d9",
   "metadata": {},
   "outputs": [],
   "source": [
    "class RAQST(gym.Env):\n",
    "    \n",
    "    def __init__(self, n_particles = 30, n_measurements = 1000, hidden_state = None, reward_start = 100):\n",
    "        super(RAQST, self).__init__()\n",
    "        \n",
    "        self.n_particles = n_particles\n",
    "        self.n_measurements = n_measurements\n",
    "        self.posterior = Posterior(self.n_particles)\n",
    "        \n",
    "        self.change_state = (hidden_state is None)\n",
    "        self.hidden_state = hidden_state\n",
    "        if self.change_state:\n",
    "            self.hidden_state = HiddenState()\n",
    "    \n",
    "        self.step_num = 0\n",
    "        self.reward_start = reward_start\n",
    "        \n",
    "        ##Observations: Orientation of the measured axis\n",
    "        self.observation_space = gym.spaces.Box(low = -1, high = 1, shape = (2,))\n",
    "        \n",
    "        ##Actions: Orientation of the measured axis\n",
    "        self.action_space = gym.spaces.Box(low= -1, high = 1, shape = (2,))  ##Orientation of measurement\n",
    "\n",
    "    def step(self, action):\n",
    "        \n",
    "        config = (action + 1) * pi / 2\n",
    "        result = self.hidden_state.measure_along_axis(config)\n",
    "        \n",
    "        \n",
    "        self.posterior.update(config, result)\n",
    "        fidelity = state_fidelity(self.hidden_state.hidden_state, self.posterior.get_best_guess())\n",
    "        \n",
    "        reward = -np.log(1 - fidelity) / np.log(self.step_num + 8)\n",
    "\n",
    "        self.step_num += 1\n",
    "        truncated = (self.step_num >= self.n_measurements)\n",
    "        terminated = False\n",
    "\n",
    "        return (self.get_observation(action, result), \n",
    "                reward, \n",
    "                terminated, \n",
    "                truncated, \n",
    "                {})\n",
    "\n",
    "    def reset(self, seed=None, options=None):\n",
    "        super().reset(seed=seed, options=options)\n",
    "\n",
    "        self.posterior = Posterior(self.n_particles)\n",
    "        if not self.change_state:\n",
    "            self.hidden_state = HiddenState()\n",
    "            \n",
    "        self.step_num = 0\n",
    "        \n",
    "        return np.array([0, 0]).astype(np.float32), {}\n",
    "    \n",
    "    #Package complex density matrix and weights into observation vector (x, y, z positions)\n",
    "    def get_observation(self, action, result):\n",
    "        \n",
    "        if result == 0:\n",
    "            obs = config\n",
    "        \n",
    "        ##Otherwise, measured in the opposite direction:\n",
    "        else:\n",
    "            obs = np.array([pi - config[0], config[1] - pi])\n",
    "            \n",
    "        #Normalize\n",
    "        obs /= pi\n",
    "        obs[0] = 2 * obs[0] - 1\n",
    "\n",
    "        return obs.astype(np.float32)"
   ]
  },
  {
   "cell_type": "code",
   "execution_count": 14,
   "id": "689eb88b",
   "metadata": {},
   "outputs": [],
   "source": [
    "env = RAQST()\n",
    "check_env(env, warn=True)"
   ]
  },
  {
   "cell_type": "code",
   "execution_count": 20,
   "id": "e86cb92e",
   "metadata": {},
   "outputs": [
    {
     "name": "stdout",
     "output_type": "stream",
     "text": [
      "[0.4435885  0.07334452]\n",
      "[0.4435885  0.53667223]\n",
      "\n",
      "[-0.30095756  0.31652617]\n",
      "[-0.30095756  0.6582631 ]\n",
      "\n",
      "[-0.30076712  0.16702166]\n",
      "[-0.30076712  0.5835108 ]\n",
      "\n",
      "[0.9549845  0.23642556]\n",
      "[-0.95498455 -0.3817872 ]\n",
      "\n",
      "[-0.20831513  0.9967349 ]\n",
      "[ 0.20831512 -0.00163254]\n",
      "\n",
      "[ 0.17844771 -0.31732884]\n",
      "[0.17844772 0.3413356 ]\n",
      "\n",
      "[-0.46157548 -0.92410755]\n",
      "[-0.4615755   0.03794622]\n",
      "\n",
      "[0.56021947 0.78713393]\n",
      "[-0.5602195  -0.10643299]\n",
      "\n",
      "[0.89643925 0.88191444]\n",
      "[-0.8964394  -0.05904279]\n",
      "\n",
      "[0.91942364 0.41523916]\n",
      "[-0.9194237  -0.29238042]\n",
      "\n"
     ]
    }
   ],
   "source": [
    "##Test the Environment with random actions:\n",
    "env = RAQST()\n",
    "obs, _ = env.reset()\n",
    "\n",
    "for _ in range(10):\n",
    "    action = env.action_space.sample()\n",
    "    obs, rewards, truncated, terminated, info = env.step(action)\n",
    "    \n",
    "    print(action)\n",
    "    print(obs)\n",
    "    print()"
   ]
  },
  {
   "cell_type": "code",
   "execution_count": 25,
   "id": "db42a56b",
   "metadata": {},
   "outputs": [
    {
     "data": {
      "text/plain": [
       "0.58351083"
      ]
     },
     "execution_count": 25,
     "metadata": {},
     "output_type": "execute_result"
    }
   ],
   "source": [
    "arr = np.array([0.56021947, 0.78713393]) * pi\n",
    "\n",
    "(0.16702166 + 1) / 2"
   ]
  }
 ],
 "metadata": {
  "kernelspec": {
   "display_name": "Python 3 (ipykernel)",
   "language": "python",
   "name": "python3"
  },
  "language_info": {
   "codemirror_mode": {
    "name": "ipython",
    "version": 3
   },
   "file_extension": ".py",
   "mimetype": "text/x-python",
   "name": "python",
   "nbconvert_exporter": "python",
   "pygments_lexer": "ipython3",
   "version": "3.9.7"
  }
 },
 "nbformat": 4,
 "nbformat_minor": 5
}
