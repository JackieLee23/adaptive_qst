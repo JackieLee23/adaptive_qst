{
 "cells": [
  {
   "cell_type": "markdown",
   "id": "b3e7482b",
   "metadata": {},
   "source": [
    "## Description\n",
    "Implementation of Bayesian adaptive quantum state tomography. \n",
    "Paper used: https://journals.aps.org/pra/abstract/10.1103/PhysRevA.85.052120. "
   ]
  },
  {
   "cell_type": "code",
   "execution_count": 1,
   "id": "46307df9",
   "metadata": {},
   "outputs": [],
   "source": [
    "import numpy as np"
   ]
  },
  {
   "cell_type": "code",
   "execution_count": null,
   "id": "a3b2ebe0",
   "metadata": {},
   "outputs": [],
   "source": []
  }
 ],
 "metadata": {
  "kernelspec": {
   "display_name": "Python 3 (ipykernel)",
   "language": "python",
   "name": "python3"
  },
  "language_info": {
   "codemirror_mode": {
    "name": "ipython",
    "version": 3
   },
   "file_extension": ".py",
   "mimetype": "text/x-python",
   "name": "python",
   "nbconvert_exporter": "python",
   "pygments_lexer": "ipython3",
   "version": "3.9.7"
  }
 },
 "nbformat": 4,
 "nbformat_minor": 5
}
