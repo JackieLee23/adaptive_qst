{
 "cells": [
  {
   "cell_type": "code",
   "execution_count": 36,
   "id": "7c28f5ac",
   "metadata": {},
   "outputs": [
    {
     "name": "stdout",
     "output_type": "stream",
     "text": [
      "The autoreload extension is already loaded. To reload it, use:\n",
      "  %reload_ext autoreload\n"
     ]
    }
   ],
   "source": [
    "%load_ext autoreload\n",
    "%autoreload 2\n",
    "\n",
    "import numpy as np\n",
    "import os\n",
    "import qiskit\n",
    "from gymnasium import spaces\n",
    "from stable_baselines3 import PPO, A2C, DQN, TD3\n",
    "from stable_baselines3.common.env_util import DummyVecEnv\n",
    "from stable_baselines3.common.monitor import Monitor\n",
    "from stable_baselines3.common.env_checker import check_env\n",
    "\n",
    "from qiskit.quantum_info import random_density_matrix, random_statevector, DensityMatrix\n",
    "from adaptive_qst.plotting import PlotOneQubit\n",
    "from adaptive_qst.max_info import Posterior, HiddenState\n",
    "from adaptive_qst.rl_qst import AQSTEnv\n",
    "import matplotlib.pyplot as plt\n",
    "from numpy import pi\n",
    "from qiskit.quantum_info import state_fidelity\n",
    "\n",
    "from numpy import sqrt\n",
    "from numpy.linalg import cholesky"
   ]
  },
  {
   "cell_type": "markdown",
   "id": "9a770a26",
   "metadata": {},
   "source": [
    "## Environment Test"
   ]
  },
  {
   "cell_type": "code",
   "execution_count": 10,
   "id": "07f0c4f9",
   "metadata": {},
   "outputs": [],
   "source": [
    "from adaptive_qst.rl_qst import AQSTEnv\n",
    "env = AQSTEnv()"
   ]
  },
  {
   "cell_type": "code",
   "execution_count": 14,
   "id": "202829fd",
   "metadata": {},
   "outputs": [],
   "source": [
    "check_env(env, warn=True)"
   ]
  },
  {
   "cell_type": "code",
   "execution_count": 20,
   "id": "503bbf0d",
   "metadata": {},
   "outputs": [
    {
     "name": "stdout",
     "output_type": "stream",
     "text": [
      "Box(-1.0, 1.0, (120,), float32)\n",
      "Box(0.0, 3.1415927, (2,), float32)\n",
      "[1.7335824 1.6154512]\n",
      "[[ 0.82832257-3.58733815e-18j -0.19614041+2.58214613e-01j]\n",
      " [-0.19614041-2.58214613e-01j  0.17167743+3.58733815e-18j]]\n",
      "Step 1\n",
      "obs= [0.6144465  0.7037841  0.34106225 0.43639508 0.549855   0.35525948\n",
      " 0.25307056 0.4547204  0.8907877  0.05525317] reward= 0.7590576576174881\n",
      "Step 2\n",
      "obs= [0.6144465  0.7037841  0.34106225 0.43639508 0.549855   0.35525948\n",
      " 0.25307056 0.4547204  0.8907877  0.05525317] reward= 0.7814775300678963\n",
      "Step 3\n",
      "obs= [0.6144465  0.7037841  0.34106225 0.43639508 0.549855   0.35525948\n",
      " 0.25307056 0.4547204  0.8907877  0.05525317] reward= 0.7935629417016612\n",
      "Step 4\n",
      "obs= [0.6144465  0.7037841  0.34106225 0.43639508 0.549855   0.35525948\n",
      " 0.25307056 0.4547204  0.8907877  0.05525317] reward= 0.7996067658445755\n",
      "Step 5\n",
      "obs= [0.6144465  0.7037841  0.34106225 0.43639508 0.549855   0.35525948\n",
      " 0.25307056 0.4547204  0.8907877  0.05525317] reward= 0.8024857775532155\n",
      "Step 6\n",
      "obs= [0.6144465  0.7037841  0.34106225 0.43639508 0.549855   0.35525948\n",
      " 0.25307056 0.4547204  0.8907877  0.05525317] reward= 0.8040672504376948\n",
      "Step 7\n",
      "obs= [0.6144465  0.7037841  0.34106225 0.43639508 0.549855   0.35525948\n",
      " 0.25307056 0.4547204  0.8907877  0.05525317] reward= 0.7965246913141163\n",
      "Step 8\n",
      "obs= [0.6144465  0.7037841  0.34106225 0.43639508 0.549855   0.35525948\n",
      " 0.25307056 0.4547204  0.8907877  0.05525317] reward= 0.7962117406273517\n",
      "Step 9\n",
      "obs= [0.6144465  0.7037841  0.34106225 0.43639508 0.549855   0.35525948\n",
      " 0.25307056 0.4547204  0.8907877  0.05525317] reward= 0.79519401390245\n",
      "Step 10\n",
      "obs= [0.6144465  0.7037841  0.34106225 0.43639508 0.549855   0.35525948\n",
      " 0.25307056 0.4547204  0.8907877  0.05525317] reward= 0.7943992533614636\n",
      "Step 11\n",
      "obs= [0.6144465  0.7037841  0.34106225 0.43639508 0.549855   0.35525948\n",
      " 0.25307056 0.4547204  0.8907877  0.05525317] reward= 0.7928227141987636\n",
      "Step 12\n",
      "obs= [0.6144465  0.7037841  0.34106225 0.43639508 0.549855   0.35525948\n",
      " 0.25307056 0.4547204  0.8907877  0.05525317] reward= 0.789377926947705\n",
      "Step 13\n",
      "obs= [0.6144465  0.7037841  0.34106225 0.43639508 0.549855   0.35525948\n",
      " 0.25307056 0.4547204  0.8907877  0.05525317] reward= 0.7862557545311318\n",
      "Step 14\n",
      "obs= [0.6144465  0.7037841  0.34106225 0.43639508 0.549855   0.35525948\n",
      " 0.25307056 0.4547204  0.8907877  0.05525317] reward= 0.783973830218394\n",
      "Step 15\n",
      "obs= [0.6144465  0.7037841  0.34106225 0.43639508 0.549855   0.35525948\n",
      " 0.25307056 0.4547204  0.8907877  0.05525317] reward= 0.7865015536053962\n",
      "Step 16\n",
      "obs= [0.6144465  0.7037841  0.34106225 0.43639508 0.549855   0.35525948\n",
      " 0.25307056 0.4547204  0.8907877  0.05525317] reward= 0.7814218013126071\n",
      "Step 17\n",
      "obs= [0.6144465  0.7037841  0.34106225 0.43639508 0.549855   0.35525948\n",
      " 0.25307056 0.4547204  0.8907877  0.05525317] reward= 0.7770809056207146\n",
      "Step 18\n",
      "obs= [0.6144465  0.7037841  0.34106225 0.43639508 0.549855   0.35525948\n",
      " 0.25307056 0.4547204  0.8907877  0.05525317] reward= 0.7737869655052191\n",
      "Step 19\n",
      "obs= [0.6144465  0.7037841  0.34106225 0.43639508 0.549855   0.35525948\n",
      " 0.25307056 0.4547204  0.8907877  0.05525317] reward= 0.7717238395870273\n",
      "Step 20\n",
      "obs= [0.6144465  0.7037841  0.34106225 0.43639508 0.549855   0.35525948\n",
      " 0.25307056 0.4547204  0.8907877  0.05525317] reward= 0.7709772446434141\n"
     ]
    }
   ],
   "source": [
    "env = AQSTEnv()\n",
    "obs, _ = env.reset()\n",
    "n_steps = 20\n",
    "print(env.observation_space)\n",
    "print(env.action_space)\n",
    "print(env.action_space.sample())\n",
    "print(env.hidden_state.hidden_state)\n",
    "\n",
    "for step in range(n_steps):\n",
    "    print(f\"Step {step + 1}\")\n",
    "    \n",
    "    obs, reward, terminated, truncated, info = env.step(action)\n",
    "    print(\"obs=\", obs[:10], \"reward=\", reward)"
   ]
  },
  {
   "cell_type": "markdown",
   "id": "590a07cd",
   "metadata": {},
   "source": [
    "## Training the Model: Run 1\n",
    "- Reward as -ln(1 - fidelity)\n",
    "- Runs of length 100\n",
    "- Using the default MLP architecture"
   ]
  },
  {
   "cell_type": "code",
   "execution_count": 40,
   "id": "6224bc15",
   "metadata": {},
   "outputs": [
    {
     "data": {
      "text/plain": [
       "<stable_baselines3.a2c.a2c.A2C at 0x19afc9ca880>"
      ]
     },
     "execution_count": 40,
     "metadata": {},
     "output_type": "execute_result"
    }
   ],
   "source": [
    "env = AQSTEnv(n_measurements = 100)\n",
    "hidden_state = env.hidden_state\n",
    "env = DummyVecEnv([lambda: Monitor(env)])\n",
    "\n",
    "tb_log_dir = \"tb_logs/1_qubit_aqst\"\n",
    "\n",
    "model = A2C(\"MlpPolicy\", env, tensorboard_log = tb_log_dir)\n",
    "model.learn(50_000, tb_log_name=\"A2C\")"
   ]
  },
  {
   "cell_type": "code",
   "execution_count": 42,
   "id": "1189c50b",
   "metadata": {},
   "outputs": [],
   "source": [
    "save_dir = \"models/rl_qst\"\n",
    "os.makedirs(save_dir, exist_ok=True)\n",
    "\n",
    "model.save(f\"{save_dir}/default_mlp_50_000\")"
   ]
  },
  {
   "cell_type": "code",
   "execution_count": 48,
   "id": "7b899cf6",
   "metadata": {},
   "outputs": [
    {
     "data": {
      "text/plain": [
       "<stable_baselines3.a2c.a2c.A2C at 0x19afcc55c70>"
      ]
     },
     "execution_count": 48,
     "metadata": {},
     "output_type": "execute_result"
    }
   ],
   "source": [
    "#Do some more training\n",
    "loaded_model = A2C.load(f\"{save_dir}/default_mlp_50_000_1\")\n",
    "\n",
    "env = AQSTEnv(n_measurements = 100)\n",
    "env = DummyVecEnv([lambda: Monitor(env)])\n",
    "\n",
    "loaded_model.set_env(env)\n",
    "loaded_model.learn(50_000, tb_log_name=\"A2C\")"
   ]
  },
  {
   "cell_type": "code",
   "execution_count": 47,
   "id": "3f9d6089",
   "metadata": {},
   "outputs": [],
   "source": [
    "loaded_model.save(f\"{save_dir}/default_mlp_50_000_1\")"
   ]
  }
 ],
 "metadata": {
  "kernelspec": {
   "display_name": "Python 3 (ipykernel)",
   "language": "python",
   "name": "python3"
  },
  "language_info": {
   "codemirror_mode": {
    "name": "ipython",
    "version": 3
   },
   "file_extension": ".py",
   "mimetype": "text/x-python",
   "name": "python",
   "nbconvert_exporter": "python",
   "pygments_lexer": "ipython3",
   "version": "3.9.7"
  }
 },
 "nbformat": 4,
 "nbformat_minor": 5
}
